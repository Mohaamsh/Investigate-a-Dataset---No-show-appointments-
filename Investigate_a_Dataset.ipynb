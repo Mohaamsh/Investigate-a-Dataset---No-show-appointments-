{
 "cells": [
  {
   "cell_type": "markdown",
   "metadata": {},
   "source": [
    "\n",
    "\n",
    "# Project: Investigate a Dataset - [No-show appointments]\n",
    "\n",
    "## Table of Contents\n",
    "<ul>\n",
    "<li><a href=\"#intro\">Introduction</a></li>\n",
    "<li><a href=\"#wrangling\">Data Wrangling</a></li>\n",
    "<li><a href=\"#eda\">Exploratory Data Analysis</a></li>\n",
    "<li><a href=\"#conclusions\">Conclusions</a></li>\n",
    "</ul>"
   ]
  },
  {
   "cell_type": "markdown",
   "metadata": {},
   "source": [
    "<a id='intro'></a>\n",
    "## Introduction\n",
    "This dataset No-Show Appointments collects information from 100k medical appointments in Brazil and is focused on the question of whether or not patients show up for their appointment. A number of characteristics about the patient are included in each row.\n",
    "\n",
    "● ScheduledDay tells us on what day the patient set up their appointment.\n",
    "\n",
    "● Neighborhood indicates the location of the hospital.\n",
    "\n",
    "● Scholarship indicates whether or not the patient is enrolled in Brasilian welfare program Bolsa Família.\n",
    "\n",
    "● Be careful about the encoding of the last column: it says ‘No’ if the patient showed up to their appointment, and ‘Yes’ if they did not show up.\n",
    "\n",
    "We will analyze and explore the No-Show Appointments dataset to work throw it and we tring to answer this questions by exploring the dataset and also the connections among variables. And after that, come up with possible conclusions as to why so many patients do not show up to their appointment.\n",
    "### Dataset Description \n",
    "\n",
    "scv file\n",
    "\n",
    "\n",
    "### Question(s) for Analysis\n",
    "Why do 20% of patients miss their scheduled appointments?"
   ]
  },
  {
   "cell_type": "code",
   "execution_count": 1,
   "metadata": {},
   "outputs": [],
   "source": [
    "import numpy as np # linear algebra\n",
    "import pandas as pd # data processing\n",
    "import os # manipulate paths\n",
    "from datetime import date # supplies classes for manipulating dates\n",
    "from time import strftime # convert time to a string as specified by the format argument\n",
    "\n",
    "import matplotlib.pyplot as plt # to create visualisations\n",
    "%matplotlib inline\n",
    "import seaborn as sns"
   ]
  },
  {
   "cell_type": "markdown",
   "metadata": {},
   "source": [
    "<a id='wrangling'></a>\n",
    "## Data Wrangling\n",
    "\n",
    "in this section of the report, we will load in the data, check the cleanliness, anc them and clean dataset for analysis\n",
    "\n",
    "### General Properties\n",
    "\n"
   ]
  },
  {
   "cell_type": "code",
   "execution_count": 2,
   "metadata": {},
   "outputs": [],
   "source": [
    "# input data file is available in the \"../input/\" directory.\n",
    "for dirname, _, filenames in os.walk('/kaggle/input'):\n",
    "    for filename in filenames:\n",
    "        print(os.path.join(dirname, filename))\n"
   ]
  },
  {
   "cell_type": "code",
   "execution_count": 3,
   "metadata": {},
   "outputs": [],
   "source": [
    "# read the data\n",
    "df = pd.read_csv('noshowappointments-kagglev2-may-2016.csv')\n"
   ]
  },
  {
   "cell_type": "code",
   "execution_count": 4,
   "metadata": {},
   "outputs": [
    {
     "data": {
      "text/plain": [
       "(110527, 14)"
      ]
     },
     "execution_count": 4,
     "metadata": {},
     "output_type": "execute_result"
    }
   ],
   "source": [
    "#exploring the shape of data\n",
    "\n",
    "df.shape\n"
   ]
  },
  {
   "cell_type": "code",
   "execution_count": 5,
   "metadata": {},
   "outputs": [
    {
     "data": {
      "text/plain": [
       "0"
      ]
     },
     "execution_count": 5,
     "metadata": {},
     "output_type": "execute_result"
    }
   ],
   "source": [
    "# check for duplicates in the data\n",
    "df.duplicated().sum()"
   ]
  },
  {
   "cell_type": "code",
   "execution_count": 6,
   "metadata": {},
   "outputs": [
    {
     "data": {
      "text/plain": [
       "62299"
      ]
     },
     "execution_count": 6,
     "metadata": {},
     "output_type": "execute_result"
    }
   ],
   "source": [
    "# Number of unique PatientId\n",
    "df['PatientId'].nunique()\n"
   ]
  },
  {
   "cell_type": "code",
   "execution_count": 7,
   "metadata": {},
   "outputs": [
    {
     "data": {
      "text/plain": [
       "48228"
      ]
     },
     "execution_count": 7,
     "metadata": {},
     "output_type": "execute_result"
    }
   ],
   "source": [
    "# Number of duplicated Patient Id\n",
    "df['PatientId'].duplicated().sum()"
   ]
  },
  {
   "cell_type": "code",
   "execution_count": 8,
   "metadata": {},
   "outputs": [
    {
     "data": {
      "text/plain": [
       "38710"
      ]
     },
     "execution_count": 8,
     "metadata": {},
     "output_type": "execute_result"
    }
   ],
   "source": [
    "# Number of duplicated 'Patient Id' with the same 'No-show' status.\n",
    "df.duplicated(['PatientId', 'No-show']).sum()\n"
   ]
  },
  {
   "cell_type": "code",
   "execution_count": 9,
   "metadata": {},
   "outputs": [
    {
     "data": {
      "text/html": [
       "<div>\n",
       "<style scoped>\n",
       "    .dataframe tbody tr th:only-of-type {\n",
       "        vertical-align: middle;\n",
       "    }\n",
       "\n",
       "    .dataframe tbody tr th {\n",
       "        vertical-align: top;\n",
       "    }\n",
       "\n",
       "    .dataframe thead th {\n",
       "        text-align: right;\n",
       "    }\n",
       "</style>\n",
       "<table border=\"1\" class=\"dataframe\">\n",
       "  <thead>\n",
       "    <tr style=\"text-align: right;\">\n",
       "      <th></th>\n",
       "      <th>PatientId</th>\n",
       "      <th>AppointmentID</th>\n",
       "      <th>Age</th>\n",
       "      <th>Scholarship</th>\n",
       "      <th>Hipertension</th>\n",
       "      <th>Diabetes</th>\n",
       "      <th>Alcoholism</th>\n",
       "      <th>Handcap</th>\n",
       "      <th>SMS_received</th>\n",
       "    </tr>\n",
       "  </thead>\n",
       "  <tbody>\n",
       "    <tr>\n",
       "      <th>count</th>\n",
       "      <td>1.105270e+05</td>\n",
       "      <td>1.105270e+05</td>\n",
       "      <td>110527.000000</td>\n",
       "      <td>110527.000000</td>\n",
       "      <td>110527.000000</td>\n",
       "      <td>110527.000000</td>\n",
       "      <td>110527.000000</td>\n",
       "      <td>110527.000000</td>\n",
       "      <td>110527.000000</td>\n",
       "    </tr>\n",
       "    <tr>\n",
       "      <th>mean</th>\n",
       "      <td>1.474963e+14</td>\n",
       "      <td>5.675305e+06</td>\n",
       "      <td>37.088874</td>\n",
       "      <td>0.098266</td>\n",
       "      <td>0.197246</td>\n",
       "      <td>0.071865</td>\n",
       "      <td>0.030400</td>\n",
       "      <td>0.022248</td>\n",
       "      <td>0.321026</td>\n",
       "    </tr>\n",
       "    <tr>\n",
       "      <th>std</th>\n",
       "      <td>2.560949e+14</td>\n",
       "      <td>7.129575e+04</td>\n",
       "      <td>23.110205</td>\n",
       "      <td>0.297675</td>\n",
       "      <td>0.397921</td>\n",
       "      <td>0.258265</td>\n",
       "      <td>0.171686</td>\n",
       "      <td>0.161543</td>\n",
       "      <td>0.466873</td>\n",
       "    </tr>\n",
       "    <tr>\n",
       "      <th>min</th>\n",
       "      <td>3.921784e+04</td>\n",
       "      <td>5.030230e+06</td>\n",
       "      <td>-1.000000</td>\n",
       "      <td>0.000000</td>\n",
       "      <td>0.000000</td>\n",
       "      <td>0.000000</td>\n",
       "      <td>0.000000</td>\n",
       "      <td>0.000000</td>\n",
       "      <td>0.000000</td>\n",
       "    </tr>\n",
       "    <tr>\n",
       "      <th>25%</th>\n",
       "      <td>4.172614e+12</td>\n",
       "      <td>5.640286e+06</td>\n",
       "      <td>18.000000</td>\n",
       "      <td>0.000000</td>\n",
       "      <td>0.000000</td>\n",
       "      <td>0.000000</td>\n",
       "      <td>0.000000</td>\n",
       "      <td>0.000000</td>\n",
       "      <td>0.000000</td>\n",
       "    </tr>\n",
       "    <tr>\n",
       "      <th>50%</th>\n",
       "      <td>3.173184e+13</td>\n",
       "      <td>5.680573e+06</td>\n",
       "      <td>37.000000</td>\n",
       "      <td>0.000000</td>\n",
       "      <td>0.000000</td>\n",
       "      <td>0.000000</td>\n",
       "      <td>0.000000</td>\n",
       "      <td>0.000000</td>\n",
       "      <td>0.000000</td>\n",
       "    </tr>\n",
       "    <tr>\n",
       "      <th>75%</th>\n",
       "      <td>9.439172e+13</td>\n",
       "      <td>5.725524e+06</td>\n",
       "      <td>55.000000</td>\n",
       "      <td>0.000000</td>\n",
       "      <td>0.000000</td>\n",
       "      <td>0.000000</td>\n",
       "      <td>0.000000</td>\n",
       "      <td>0.000000</td>\n",
       "      <td>1.000000</td>\n",
       "    </tr>\n",
       "    <tr>\n",
       "      <th>max</th>\n",
       "      <td>9.999816e+14</td>\n",
       "      <td>5.790484e+06</td>\n",
       "      <td>115.000000</td>\n",
       "      <td>1.000000</td>\n",
       "      <td>1.000000</td>\n",
       "      <td>1.000000</td>\n",
       "      <td>1.000000</td>\n",
       "      <td>4.000000</td>\n",
       "      <td>1.000000</td>\n",
       "    </tr>\n",
       "  </tbody>\n",
       "</table>\n",
       "</div>"
      ],
      "text/plain": [
       "          PatientId  AppointmentID            Age    Scholarship  \\\n",
       "count  1.105270e+05   1.105270e+05  110527.000000  110527.000000   \n",
       "mean   1.474963e+14   5.675305e+06      37.088874       0.098266   \n",
       "std    2.560949e+14   7.129575e+04      23.110205       0.297675   \n",
       "min    3.921784e+04   5.030230e+06      -1.000000       0.000000   \n",
       "25%    4.172614e+12   5.640286e+06      18.000000       0.000000   \n",
       "50%    3.173184e+13   5.680573e+06      37.000000       0.000000   \n",
       "75%    9.439172e+13   5.725524e+06      55.000000       0.000000   \n",
       "max    9.999816e+14   5.790484e+06     115.000000       1.000000   \n",
       "\n",
       "        Hipertension       Diabetes     Alcoholism        Handcap  \\\n",
       "count  110527.000000  110527.000000  110527.000000  110527.000000   \n",
       "mean        0.197246       0.071865       0.030400       0.022248   \n",
       "std         0.397921       0.258265       0.171686       0.161543   \n",
       "min         0.000000       0.000000       0.000000       0.000000   \n",
       "25%         0.000000       0.000000       0.000000       0.000000   \n",
       "50%         0.000000       0.000000       0.000000       0.000000   \n",
       "75%         0.000000       0.000000       0.000000       0.000000   \n",
       "max         1.000000       1.000000       1.000000       4.000000   \n",
       "\n",
       "        SMS_received  \n",
       "count  110527.000000  \n",
       "mean        0.321026  \n",
       "std         0.466873  \n",
       "min         0.000000  \n",
       "25%         0.000000  \n",
       "50%         0.000000  \n",
       "75%         1.000000  \n",
       "max         1.000000  "
      ]
     },
     "execution_count": 9,
     "metadata": {},
     "output_type": "execute_result"
    }
   ],
   "source": [
    "#another view on the dataset \n",
    "df.describe()\n"
   ]
  },
  {
   "cell_type": "code",
   "execution_count": 10,
   "metadata": {},
   "outputs": [
    {
     "data": {
      "text/html": [
       "<div>\n",
       "<style scoped>\n",
       "    .dataframe tbody tr th:only-of-type {\n",
       "        vertical-align: middle;\n",
       "    }\n",
       "\n",
       "    .dataframe tbody tr th {\n",
       "        vertical-align: top;\n",
       "    }\n",
       "\n",
       "    .dataframe thead th {\n",
       "        text-align: right;\n",
       "    }\n",
       "</style>\n",
       "<table border=\"1\" class=\"dataframe\">\n",
       "  <thead>\n",
       "    <tr style=\"text-align: right;\">\n",
       "      <th></th>\n",
       "      <th>PatientId</th>\n",
       "      <th>AppointmentID</th>\n",
       "      <th>Gender</th>\n",
       "      <th>ScheduledDay</th>\n",
       "      <th>AppointmentDay</th>\n",
       "      <th>Age</th>\n",
       "      <th>Neighbourhood</th>\n",
       "      <th>Scholarship</th>\n",
       "      <th>Hipertension</th>\n",
       "      <th>Diabetes</th>\n",
       "      <th>Alcoholism</th>\n",
       "      <th>Handcap</th>\n",
       "      <th>SMS_received</th>\n",
       "      <th>No-show</th>\n",
       "    </tr>\n",
       "  </thead>\n",
       "  <tbody>\n",
       "    <tr>\n",
       "      <th>99832</th>\n",
       "      <td>4.659432e+14</td>\n",
       "      <td>5775010</td>\n",
       "      <td>F</td>\n",
       "      <td>2016-06-06T08:58:13Z</td>\n",
       "      <td>2016-06-06T00:00:00Z</td>\n",
       "      <td>-1</td>\n",
       "      <td>ROMÃO</td>\n",
       "      <td>0</td>\n",
       "      <td>0</td>\n",
       "      <td>0</td>\n",
       "      <td>0</td>\n",
       "      <td>0</td>\n",
       "      <td>0</td>\n",
       "      <td>No</td>\n",
       "    </tr>\n",
       "  </tbody>\n",
       "</table>\n",
       "</div>"
      ],
      "text/plain": [
       "          PatientId  AppointmentID Gender          ScheduledDay  \\\n",
       "99832  4.659432e+14        5775010      F  2016-06-06T08:58:13Z   \n",
       "\n",
       "             AppointmentDay  Age Neighbourhood  Scholarship  Hipertension  \\\n",
       "99832  2016-06-06T00:00:00Z   -1         ROMÃO            0             0   \n",
       "\n",
       "       Diabetes  Alcoholism  Handcap  SMS_received No-show  \n",
       "99832         0           0        0             0      No  "
      ]
     },
     "execution_count": 10,
     "metadata": {},
     "output_type": "execute_result"
    }
   ],
   "source": [
    "# how many patient listed as -1 for the age\n",
    "mask=df.query('Age==\"-1\"')\n",
    "mask"
   ]
  },
  {
   "cell_type": "code",
   "execution_count": 11,
   "metadata": {},
   "outputs": [
    {
     "name": "stdout",
     "output_type": "stream",
     "text": [
      "Values in Gender: ['F' 'M']\n",
      "Values in Neighbourhood: ['JARDIM DA PENHA' 'MATA DA PRAIA' 'PONTAL DE CAMBURI' 'REPÚBLICA'\n",
      " 'GOIABEIRAS' 'ANDORINHAS' 'CONQUISTA' 'NOVA PALESTINA' 'DA PENHA'\n",
      " 'TABUAZEIRO' 'BENTO FERREIRA' 'SÃO PEDRO' 'SANTA MARTHA' 'SÃO CRISTÓVÃO'\n",
      " 'MARUÍPE' 'GRANDE VITÓRIA' 'SÃO BENEDITO' 'ILHA DAS CAIEIRAS'\n",
      " 'SANTO ANDRÉ' 'SOLON BORGES' 'BONFIM' 'JARDIM CAMBURI' 'MARIA ORTIZ'\n",
      " 'JABOUR' 'ANTÔNIO HONÓRIO' 'RESISTÊNCIA' 'ILHA DE SANTA MARIA'\n",
      " 'JUCUTUQUARA' 'MONTE BELO' 'MÁRIO CYPRESTE' 'SANTO ANTÔNIO' 'BELA VISTA'\n",
      " 'PRAIA DO SUÁ' 'SANTA HELENA' 'ITARARÉ' 'INHANGUETÁ' 'UNIVERSITÁRIO'\n",
      " 'SÃO JOSÉ' 'REDENÇÃO' 'SANTA CLARA' 'CENTRO' 'PARQUE MOSCOSO' 'DO MOSCOSO'\n",
      " 'SANTOS DUMONT' 'CARATOÍRA' 'ARIOVALDO FAVALESSA' 'ILHA DO FRADE'\n",
      " 'GURIGICA' 'JOANA D´ARC' 'CONSOLAÇÃO' 'PRAIA DO CANTO' 'BOA VISTA'\n",
      " 'MORADA DE CAMBURI' 'SANTA LUÍZA' 'SANTA LÚCIA' 'BARRO VERMELHO'\n",
      " 'ESTRELINHA' 'FORTE SÃO JOÃO' 'FONTE GRANDE' 'ENSEADA DO SUÁ'\n",
      " 'SANTOS REIS' 'PIEDADE' 'JESUS DE NAZARETH' 'SANTA TEREZA' 'CRUZAMENTO'\n",
      " 'ILHA DO PRÍNCIPE' 'ROMÃO' 'COMDUSA' 'SANTA CECÍLIA' 'VILA RUBIM'\n",
      " 'DE LOURDES' 'DO QUADRO' 'DO CABRAL' 'HORTO' 'SEGURANÇA DO LAR'\n",
      " 'ILHA DO BOI' 'FRADINHOS' 'NAZARETH' 'AEROPORTO'\n",
      " 'ILHAS OCEÂNICAS DE TRINDADE' 'PARQUE INDUSTRIAL']\n",
      "Values in Scholarship: [0 1]\n",
      "Values in Hypertension: [1 0]\n",
      "Values in Diabetes: [0 1]\n",
      "Values in Alcoholism: [0 1]\n",
      "Values in Handicap: [0 1 2 3 4]\n",
      "Values in SMS_received: [0 1]\n",
      "Values in No_Show: ['No' 'Yes']\n"
     ]
    }
   ],
   "source": [
    "# print unique values for each columns\n",
    "print('Values in Gender:', df.Gender.unique())\n",
    "print('Values in Neighbourhood:',df.Neighbourhood.unique())\n",
    "print('Values in Scholarship:',df.Scholarship.unique())\n",
    "print('Values in Hypertension:',df.Hipertension.unique())\n",
    "print('Values in Diabetes:',df.Diabetes.unique())\n",
    "print('Values in Alcoholism:',df.Alcoholism.unique())\n",
    "print('Values in Handicap:',df.Handcap.unique())\n",
    "print('Values in SMS_received:',df.SMS_received.unique())\n",
    "print('Values in No_Show:', df['No-show'].unique())"
   ]
  },
  {
   "cell_type": "code",
   "execution_count": 12,
   "metadata": {},
   "outputs": [
    {
     "name": "stdout",
     "output_type": "stream",
     "text": [
      "Number of unique values in Neighbourhood: 81\n"
     ]
    }
   ],
   "source": [
    "# print the number of unique values in Neighbourhood\n",
    "print('Number of unique values in Neighbourhood:',df.Neighbourhood.nunique())\n"
   ]
  },
  {
   "cell_type": "markdown",
   "metadata": {},
   "source": [
    "\n",
    "# Data Cleaning\n",
    "\n",
    " "
   ]
  },
  {
   "cell_type": "code",
   "execution_count": 13,
   "metadata": {},
   "outputs": [
    {
     "name": "stdout",
     "output_type": "stream",
     "text": [
      "<class 'pandas.core.frame.DataFrame'>\n",
      "RangeIndex: 110527 entries, 0 to 110526\n",
      "Data columns (total 14 columns):\n",
      "PatientId         110527 non-null int64\n",
      "AppointmentID     110527 non-null int64\n",
      "Gender            110527 non-null object\n",
      "ScheduledDay      110527 non-null object\n",
      "AppointmentDay    110527 non-null datetime64[ns]\n",
      "Age               110527 non-null int64\n",
      "Neighbourhood     110527 non-null object\n",
      "Scholarship       110527 non-null int64\n",
      "Hypertension      110527 non-null int64\n",
      "Diabetes          110527 non-null int64\n",
      "Alcoholism        110527 non-null int64\n",
      "Handicap          110527 non-null int64\n",
      "SMS_received      110527 non-null int64\n",
      "No_Show           110527 non-null object\n",
      "dtypes: datetime64[ns](1), int64(9), object(4)\n",
      "memory usage: 11.8+ MB\n"
     ]
    }
   ],
   "source": [
    "# Convert PatientId from Float to Integer\n",
    "df['PatientId'] = df['PatientId'].astype('int64')\n",
    "\n",
    "\n",
    "# Convert AppointmentDay from 'object' type to 'datetime' and drop the unecessary times\n",
    "df['AppointmentDay'] = pd.to_datetime(df['AppointmentDay']).dt.date.astype('datetime64[ns]')\n",
    "\n",
    "# rename the columns\n",
    "df = df.rename(columns={'Hipertension': 'Hypertension', 'Handcap': 'Handicap', 'No-show': 'No_Show'})\n",
    "\n",
    "df.info()\n"
   ]
  },
  {
   "cell_type": "code",
   "execution_count": 14,
   "metadata": {},
   "outputs": [
    {
     "name": "stdout",
     "output_type": "stream",
     "text": [
      "Values in Handicap: [0 1]\n"
     ]
    }
   ],
   "source": [
    "# change all the Handicap set above 0 as 1\n",
    "df.loc[df.Handicap > 0, 'Handicap'] = 1\n",
    "# check\n",
    "print('Values in Handicap:',df.Handicap.unique())\n"
   ]
  },
  {
   "cell_type": "code",
   "execution_count": 15,
   "metadata": {},
   "outputs": [
    {
     "data": {
      "image/png": "[encoded data removed]",
      "text/plain": [
       "<matplotlib.figure.Figure at 0x7fcca95a8ac8>"
      ]
     },
     "metadata": {
      "needs_background": "light"
     },
     "output_type": "display_data"
    }
   ],
   "source": [
    "# Look at the distribution of the Age feature\n",
    "plt.figure(figsize=(16,2))\n",
    "plt.xticks(rotation=90)\n",
    "dist_age = sns.boxplot(x=df.Age)\n",
    "dist_age.set_title(\"Patients distribution by Age\")\n",
    "plt.show()"
   ]
  },
  {
   "cell_type": "markdown",
   "metadata": {},
   "source": [
    "Most the patients are between 18 and 55 years old. The patients who are 115 years old are outliars, we will therefore drop these rows as well as the row of the patients aged -1."
   ]
  },
  {
   "cell_type": "code",
   "execution_count": 16,
   "metadata": {},
   "outputs": [],
   "source": [
    "# delete patients that are over 102\n",
    "df = df.drop(df[df.Age > 102].index)\n",
    "# delete the patients that are negative\n",
    "df = df.drop(df[df.Age < 0].index)\n"
   ]
  },
  {
   "cell_type": "code",
   "execution_count": 17,
   "metadata": {},
   "outputs": [
    {
     "data": {
      "text/plain": [
       "(PatientId         88205\n",
       " AppointmentID     88205\n",
       " Gender            88205\n",
       " ScheduledDay      88205\n",
       " AppointmentDay    88205\n",
       " Age               88205\n",
       " Neighbourhood     88205\n",
       " Scholarship       88205\n",
       " Hypertension      88205\n",
       " Diabetes          88205\n",
       " Alcoholism        88205\n",
       " Handicap          88205\n",
       " SMS_received      88205\n",
       " No_Show           88205\n",
       " dtype: int64, PatientId         22316\n",
       " AppointmentID     22316\n",
       " Gender            22316\n",
       " ScheduledDay      22316\n",
       " AppointmentDay    22316\n",
       " Age               22316\n",
       " Neighbourhood     22316\n",
       " Scholarship       22316\n",
       " Hypertension      22316\n",
       " Diabetes          22316\n",
       " Alcoholism        22316\n",
       " Handicap          22316\n",
       " SMS_received      22316\n",
       " No_Show           22316\n",
       " dtype: int64)"
      ]
     },
     "execution_count": 17,
     "metadata": {},
     "output_type": "execute_result"
    }
   ],
   "source": [
    "Show = df.No_Show=='No'\n",
    "No_Show = df.No_Show=='Yes'\n",
    "df[Show].count(),df[No_Show].count()"
   ]
  },
  {
   "cell_type": "markdown",
   "metadata": {},
   "source": [
    "numper of showed patients is (54154) 3 times greater than Non showed (17663)"
   ]
  },
  {
   "cell_type": "code",
   "execution_count": null,
   "metadata": {},
   "outputs": [],
   "source": [
    "df[Show].mean(),df[No_Show].mean()"
   ]
  },
  {
   "cell_type": "markdown",
   "metadata": {},
   "source": [
    "## lets see how many patient attend or not"
   ]
  },
  {
   "cell_type": "code",
   "execution_count": null,
   "metadata": {},
   "outputs": [],
   "source": [
    "ax = sns.countplot(x=df.No_Show, data=df)\n",
    "ax.set_title('Attend/Absent')\n",
    "ax.set_xticklabels(['Attend', 'Absent'])\n",
    "plt.show()"
   ]
  },
  {
   "cell_type": "markdown",
   "metadata": {},
   "source": [
    "About 75% of Patient Attend and 25% Absent"
   ]
  },
  {
   "cell_type": "markdown",
   "metadata": {},
   "source": [
    "## What are the most visited ages?"
   ]
  },
  {
   "cell_type": "code",
   "execution_count": null,
   "metadata": {
    "scrolled": true
   },
   "outputs": [],
   "source": [
    "def attendance(df,col_name,attended,absent):# setting\n",
    "\n",
    "    plt.figure(figsize=[16,6])\n",
    "    df[col_name]['Show'].hist(alpha=.5,bins=10,color='blue', label='Show')\n",
    "    df[col_name]['No_Show'].hist(alpha=.5,bins=10,color='red', label='No_Show')\n",
    "    plt.legend();\n",
    "    # Set the title and label axes \n",
    "    plt.title('Compare Attendence Status According To Age')\n",
    "    plt.xlabel('Age')\n",
    "    plt.ylabel('Patients Number');\n",
    "attendance(df,'Age',Show,No_Show)"
   ]
  },
  {
   "cell_type": "markdown",
   "metadata": {},
   "source": [
    "**● Ages from 0 to 10 are the Most Attendance (parents take care of their kids) ● Ages above 65 are the Least Attendance**\n",
    "\n",
    "for each age the number of attendence is bigger than the number of absence\n",
    "\n",
    "for older than 65 y.o patients number decreased but the num of attend is still bigger than the absent\n",
    "\n",
    "●**NO** Correlation Between **Age** and **Attendance**"
   ]
  },
  {
   "cell_type": "markdown",
   "metadata": {},
   "source": [
    "## Convert Integer to Boolean\n",
    "Columns Scholarship, Hypertension, Diabetes, Alcoholism, Handicap, SMS_received and No_Show should be binary data set as 0 for False and 1 for True"
   ]
  },
  {
   "cell_type": "code",
   "execution_count": null,
   "metadata": {},
   "outputs": [],
   "source": [
    "# Scholarship\n",
    "df['Scholarship'] = df['Scholarship'].apply(lambda x: True if x==1 else False)\n",
    "# Hypertension\n",
    "df['Hypertension'] = df['Hypertension'].apply(lambda x: True if x==1 else False)\n",
    "# Diabetes\n",
    "df['Diabetes'] = df['Diabetes'].apply(lambda x: True if x==1 else False)\n",
    "# Handicap\n",
    "df['Handicap'] = df['Handicap'].apply(lambda x: True if x==1 else False)\n",
    "# Alcoholism\n",
    "df['Alcoholism'] = df['Alcoholism'].apply(lambda x: True if x==1 else False)\n",
    "# SMS_received\n",
    "df['SMS_received'] = df['SMS_received'].apply(lambda x: True if x==1 else False)\n",
    "# No_Show\n",
    "df['No_Show'] = df['No_Show'].apply(lambda x: True if x=='Yes' else False)\n"
   ]
  },
  {
   "cell_type": "markdown",
   "metadata": {},
   "source": [
    "# Additional observations\n",
    "\n",
    "**age**: The patients are 37 years on average. 25% of patients are below 18 and most of them are below 55. There is a data range problem in the dataset. The age value cannot be below 0, and there are some very old people as well. To be investigated.\n",
    "\n",
    "**handicap**: is represented by 4 classes as opposed to other categorical variables in this dataset. This can be a result of an error or there are 4 categories used. Both options are potentially valid and this should be confirmed by an SME.\n",
    "\n",
    "**sms_received**: 75% of patients received sms regarding an appointment.\n",
    "\n",
    "**awaiting_time_days**: 10 days on average patients waited for an appointment. 50% of patients waited up to 4 days and 75% up to 15 days for an appointment. The longest awaiting time was 179 days. There is at least one case where a visit happened 6 days before it was scheduled. This should not happen and will be further investigated.\n"
   ]
  },
  {
   "cell_type": "code",
   "execution_count": null,
   "metadata": {
    "scrolled": true
   },
   "outputs": [],
   "source": [
    "\n",
    "df.hist(figsize=(18,7));\n"
   ]
  },
  {
   "cell_type": "markdown",
   "metadata": {},
   "source": [
    "## Let's see how many there are patients of each age\n"
   ]
  },
  {
   "cell_type": "code",
   "execution_count": null,
   "metadata": {},
   "outputs": [],
   "source": [
    "plt.figure(figsize=(16,4))\n",
    "plt.xticks(rotation=90)\n",
    "ax = sns.countplot(x=df.Age)\n",
    "ax.set_title(\"No of appointments by age\")\n",
    "plt.show()"
   ]
  },
  {
   "cell_type": "markdown",
   "metadata": {},
   "source": [
    "The above histogram shows a peak for the infants (patients of age 0). For higher age values the distribution starts to be uniform. After the age value of around 60 we see a right-skewed distribution."
   ]
  },
  {
   "cell_type": "markdown",
   "metadata": {},
   "source": [
    "## What is the gender distribution for show / no-show patients?"
   ]
  },
  {
   "cell_type": "code",
   "execution_count": null,
   "metadata": {
    "scrolled": true
   },
   "outputs": [],
   "source": [
    "# table with the gender and the number of patient that missed or attended their appointment\n",
    "gender_tbl = pd.DataFrame(df.groupby(['Gender','No_Show'])['PatientId'].count()).reset_index()\n",
    "gender_tbl\n",
    "\n",
    "\n"
   ]
  },
  {
   "cell_type": "code",
   "execution_count": null,
   "metadata": {},
   "outputs": [],
   "source": [
    "# appointment attendance by gender\n",
    "gender = df.groupby('Gender')['No_Show'].value_counts(normalize=True).unstack().plot(kind='bar', figsize=(10,5))\n",
    "gender.set_title(\"Percentage of Appointments Show/No Show by Gender\")\n",
    "plt.show()\n"
   ]
  },
  {
   "cell_type": "markdown",
   "metadata": {},
   "source": [
    "From the table above, we can clearly see that 'Female' patients usually have more appointments that 'Male' patients, they also have about the double number of missed appointment. However, looking at the percentage of missed appointments by gender shows that it is almost the same rate (about 20%). Therefore, gender does not seem to be an important feature.\n",
    "\n",
    "## Scheduled Day\n",
    "Looking at the time of the booking"
   ]
  },
  {
   "cell_type": "code",
   "execution_count": null,
   "metadata": {},
   "outputs": [],
   "source": [
    "# split ScheduledDay to get the time of the booking stored in Scheduled_Time\n",
    "df['Scheduled_Time'] = pd.to_datetime(df['ScheduledDay']).dt.hour\n",
    "\n",
    "# Look at the distribution of Scheduled_Time\n",
    "plt.figure(figsize=(16,2))\n",
    "plt.xticks(rotation=90)\n",
    "dist_age = sns.boxplot(x=df.Scheduled_Time)\n",
    "dist_age.set_title(\"Patients distribution by Time of the Booking\")\n",
    "plt.show()\n"
   ]
  },
  {
   "cell_type": "markdown",
   "metadata": {},
   "source": [
    "The booking are made between 6am and 8pm. There are three bookings that have been taken at 9pm, although these are showed as outliars on the plot above, they will not be dropped as they could be the results of emergencies.\n",
    "\n"
   ]
  },
  {
   "cell_type": "code",
   "execution_count": null,
   "metadata": {},
   "outputs": [],
   "source": [
    "# barchart showing percentage of show/ no-show by hours\n",
    "appt_h = df.groupby('Scheduled_Time')['No_Show'].value_counts(normalize=True).unstack().plot(kind='bar', figsize=(20,5))\n",
    "appt_h.set_title(\"Percentage of Appointment Show/No Show by Booking Hours\")\n",
    "plt.show()\n",
    "\n"
   ]
  },
  {
   "cell_type": "code",
   "execution_count": null,
   "metadata": {},
   "outputs": [],
   "source": [
    "# create three groupes for morning, afternoon and evening appointments\n",
    "bins= [6,11,17,22]\n",
    "labels = ['Morning','Afternoon','Evening']\n",
    "df['Scheduled_Period'] = pd.cut(df['Scheduled_Time'], bins=bins, labels=labels, right=False)\n",
    "\n",
    "# barchart showing percentage of show/ no-show by time of the day\n",
    "appt_tod = df.groupby('Scheduled_Period')['No_Show'].value_counts(normalize=True).unstack().plot(kind='bar', figsize=(10,5))\n",
    "appt_tod.set_title(\"Percentage of Appointment Show/No Show by Booking Time of the Day\")\n",
    "plt.show()\n"
   ]
  },
  {
   "cell_type": "markdown",
   "metadata": {},
   "source": [
    "Morning bookings seem less likely to be missed than afternoon and evening ones.\n",
    "\n",
    "### Looking at the day of booking"
   ]
  },
  {
   "cell_type": "code",
   "execution_count": null,
   "metadata": {},
   "outputs": [],
   "source": [
    "# split ScheduledDay into days of the week\n",
    "df['Scheduled_DayOfWeek'] = pd.to_datetime(df['ScheduledDay']).dt.day_name()\n",
    "\n",
    "# barchart showing number of show/ no-show by day of the week\n",
    "day_of_week = df.groupby('Scheduled_DayOfWeek')['No_Show'].value_counts(normalize=False).unstack().plot(kind='bar', figsize=(18,5))\n",
    "day_of_week.set_title(\"Appointment Show/No Show by Booking Day of the Week\")\n",
    "plt.show()\n"
   ]
  },
  {
   "cell_type": "code",
   "execution_count": null,
   "metadata": {},
   "outputs": [],
   "source": [
    "# barchart showing number of show/ no-show by day of the week\n",
    "day_of_week = df.groupby('Scheduled_DayOfWeek')['No_Show'].value_counts(normalize=True).unstack().plot(kind='bar', figsize=(18,5))\n",
    "day_of_week.set_title(\"Percentage of Appointment Show/No Show by Booking Day of the Week\")\n",
    "plt.show()\n"
   ]
  },
  {
   "cell_type": "markdown",
   "metadata": {},
   "source": [
    "Most of the bookings are at the beginning of the week, this may be explained because the medical centre seems not to be open over the weekends. Althoug Saturdays have the smallest no show rate, they also represents a too small proportion of the data to be significant. Overall, the days of the week do not seem to be an important feature.\n",
    "## Appointment Date"
   ]
  },
  {
   "cell_type": "code",
   "execution_count": null,
   "metadata": {},
   "outputs": [],
   "source": [
    "# split ScheduledDay into days of the week\n",
    "df['Booking_DayOfWeek'] = pd.to_datetime(df['AppointmentDay']).dt.day_name()\n",
    "\n",
    "# barchart showing number of show/ no-show by day of the week\n",
    "day_of_week = df.groupby('Booking_DayOfWeek')['No_Show'].value_counts(normalize=False).unstack().plot(kind='bar', figsize=(18,5))\n",
    "day_of_week.set_title(\"Appointment Show/No Show by Appointment Day of the Week\")\n",
    "plt.show()\n"
   ]
  },
  {
   "cell_type": "code",
   "execution_count": null,
   "metadata": {},
   "outputs": [],
   "source": [
    "# barchart showing number of show/ no-show by day of the week\n",
    "day_of_week = df.groupby('Booking_DayOfWeek')['No_Show'].value_counts(normalize=True).unstack().plot(kind='bar', figsize=(18,5))\n",
    "day_of_week.set_title(\"Percentage of Appointment Show/No Show by Appointment Day of the Week\")\n",
    "plt.show()\n",
    "\n"
   ]
  },
  {
   "cell_type": "markdown",
   "metadata": {},
   "source": [
    "The first graph follows the same patterns as section 5.6 \"Appointment Show/No Show by Booking Day of the Week\" graph. This may be because patient book and have their their appointment on the same day. The percentage of show vs no show dis roughly the same accross the week.\n",
    "\n",
    "## Waiting Time Between Booking and Medical Appointment\n"
   ]
  },
  {
   "cell_type": "code",
   "execution_count": null,
   "metadata": {},
   "outputs": [],
   "source": [
    "\n",
    "# calculate the number of days the booking has been taken before the appointmenet\n",
    "df['ScheduledDay'] = pd.to_datetime(df['ScheduledDay']).dt.date\n",
    "df['AppointmentDay'] = pd.to_datetime(df['AppointmentDay']).dt.date\n",
    "\n",
    "df['Waiting_Days'] = (df['AppointmentDay'] - df['ScheduledDay']).dt.days\n",
    "\n",
    "# Look at the distribution of Waiting_Days\n",
    "plt.figure(figsize=(16,2))\n",
    "plt.xticks(rotation=90)\n",
    "dist_age = sns.boxplot(x=df.Waiting_Days)\n",
    "dist_age.set_title(\"Patients distribution by Waiting Time\")\n",
    "plt.show()\n"
   ]
  },
  {
   "cell_type": "markdown",
   "metadata": {},
   "source": [
    "Most of the appointments are taken a month in advance. The graph above, highlights erroneous data and outliars. The negative data will be transformed into 'unknown' wating time category while the outliars will be kept as some medical appointment can take up to six months (like small surgeries)."
   ]
  },
  {
   "cell_type": "code",
   "execution_count": null,
   "metadata": {},
   "outputs": [],
   "source": [
    "# create pre-appointment period groups using the distribution above\n",
    "bins= [0,1,7,14,21,28,35,200]\n",
    "labels = ['Same day','Less than a week','A week','Two weeks','Three weeks','A month','More than a month']\n",
    "df['Pre_Appt_Period'] = pd.cut(df['Waiting_Days'], bins=bins, labels=labels, right=False)\n",
    "# replace missing and erronous values with unknown\n",
    "df['Pre_Appt_Period'] = df['Pre_Appt_Period'].cat.add_categories('unknown').fillna('unknown')\n",
    "\n",
    "df.groupby(['Pre_Appt_Period'])['PatientId'].count()\n"
   ]
  },
  {
   "cell_type": "code",
   "execution_count": null,
   "metadata": {},
   "outputs": [],
   "source": [
    "# barchart showing number of show/ no-show in percentage by the amount of time between booking and appointment\n",
    "psla = df.groupby('Pre_Appt_Period')['No_Show'].value_counts(normalize=True).unstack().plot(kind='bar', figsize=(15,5))\n",
    "psla.set_title(\"Percentage of Appointment Show/No Show by Time Between Booking and Appointment\")\n",
    "plt.show()"
   ]
  },
  {
   "cell_type": "markdown",
   "metadata": {},
   "source": [
    "The graph above suggests that the longer the waiting time is between booking and the appointmnet the more likely the appointment is to be missed. This feature seems to be an important one as it shows a clear distinction for patients show/ no show depending on the number of days ahead of the appontment patients have booked."
   ]
  },
  {
   "cell_type": "markdown",
   "metadata": {},
   "source": [
    "## Does Neighbourhood Affect the Attendance?\n"
   ]
  },
  {
   "cell_type": "code",
   "execution_count": null,
   "metadata": {
    "scrolled": true
   },
   "outputs": [],
   "source": [
    "plt.figure(figsize=[18,5])\n",
    "df[attend]['Neighbourhood'].value_counts().plot(kind='bar', label='Attend', color='blue')\n",
    "df[absent]['Neighbourhood'].value_counts().plot(kind='bar', label='Absent', color='red')\n",
    "plt.legend()\n",
    "#Set the title and label axes \n",
    "plt.title('Compare Attendance Status According to Neighbourhood')\n",
    "plt.xlabel('Neighbourhood')\n",
    "plt.ylabel('Patients Number');\n",
    "\n"
   ]
  },
  {
   "cell_type": "markdown",
   "metadata": {},
   "source": [
    "Most of the neighbourhouds have a no show rate of about 20%, the significant drops and peaks are because of the porr representation of a particalar neigbourhood in the dataset rather than because it is significant. Therefre, this feature does not seem to be important for the no show prediction.\n",
    "\n"
   ]
  },
  {
   "cell_type": "markdown",
   "metadata": {},
   "source": [
    "## Scholarship"
   ]
  },
  {
   "cell_type": "code",
   "execution_count": null,
   "metadata": {},
   "outputs": [],
   "source": [
    "# barchart showing number of show/ no-show by Scholarship\n",
    "day_of_week = df.groupby('Scholarship')['No_Show'].value_counts(normalize=False).unstack().plot(kind='bar', figsize=(10,4))\n",
    "day_of_week.set_title(\"Appointment Show/No Show by Scholarship\")\n",
    "plt.show()\n",
    "\n"
   ]
  },
  {
   "cell_type": "code",
   "execution_count": null,
   "metadata": {},
   "outputs": [],
   "source": [
    "# barchart showing the percentage of show/ no-show by Scholarship\n",
    "day_of_week = df.groupby('Scholarship')['No_Show'].value_counts(normalize=True).unstack().plot(kind='bar', figsize=(10,4))\n",
    "day_of_week.set_title(\"Percentage of Appointment Show/No Show by Scholarship\")\n",
    "plt.show()\n",
    "\n"
   ]
  },
  {
   "cell_type": "markdown",
   "metadata": {},
   "source": [
    "The graphs above shows that 80% of the patients that do not have a scholarship attended their appointent while 75% of the patient with a scholarship attended. This feature could be helpful in dertermining the no show."
   ]
  },
  {
   "cell_type": "markdown",
   "metadata": {},
   "source": [
    "## Handicap"
   ]
  },
  {
   "cell_type": "markdown",
   "metadata": {},
   "source": [
    "Patients suffering from a handicap represent 2% of the total appointments."
   ]
  },
  {
   "cell_type": "code",
   "execution_count": null,
   "metadata": {},
   "outputs": [],
   "source": [
    "# barchart showing number of show/ no-show by Hypertension\n",
    "day_of_week = df.groupby('Hypertension')['No_Show'].value_counts(normalize=False).unstack().plot(kind='bar', figsize=(10,4))\n",
    "day_of_week.set_title(\"Appointment Show/No Show by Hypertension\")\n",
    "plt.show()"
   ]
  },
  {
   "cell_type": "code",
   "execution_count": null,
   "metadata": {},
   "outputs": [],
   "source": [
    "# barchart showing the percentage of show/ no-show by Hypertension\n",
    "day_of_week = df.groupby('Hypertension')['No_Show'].value_counts(normalize=True).unstack().plot(kind='bar', figsize=(10,4))\n",
    "day_of_week.set_title(\"Percentage of Appointment Show/No Show by Hypertension\")\n",
    "plt.show()\n"
   ]
  },
  {
   "cell_type": "markdown",
   "metadata": {},
   "source": [
    "● 98% of all patients are without Handcap = 70511 **: 75% Attend = 53126 , 25% Absent = 17385**"
   ]
  },
  {
   "cell_type": "markdown",
   "metadata": {},
   "source": [
    "## Does Age and Chronic Deseases (Diabetes, Hypertension) Affect the Attendance?\n"
   ]
  },
  {
   "cell_type": "code",
   "execution_count": null,
   "metadata": {},
   "outputs": [],
   "source": [
    "plt.figure(figsize=[16,4])\n",
    "df[attend].groupby(['Diabetes', 'Hypertension']).Age.mean().plot(kind='bar', color='blue', label='attend')\n",
    "df[absent].groupby(['Diabetes', 'Hypertension']).Age.mean().plot(kind='bar', color='red', label='absent')\n",
    "plt.legend();\n",
    "# Set the title and label axes \n",
    "plt.title('Comparison According To Age, Chronic Deseases')\n",
    "plt.xlabel('Chronic Deseases')\n",
    "plt.ylabel('Mean Age');\n"
   ]
  },
  {
   "cell_type": "code",
   "execution_count": null,
   "metadata": {},
   "outputs": [],
   "source": [
    "# create age groups using the distribution plotted in section 4\n",
    "bins= [0,10,19,26,36,46,56,66,150]\n",
    "labels = ['Less than 10','10-18','19-25','26-35','36-45','46-55','56-65','More than 65']\n",
    "df['AgeGroup'] = pd.cut(df['Age'], bins=bins, labels=labels, right=False)\n",
    "\n",
    "df.groupby(['AgeGroup'])['PatientId'].count()\n"
   ]
  },
  {
   "cell_type": "code",
   "execution_count": null,
   "metadata": {},
   "outputs": [],
   "source": [
    "# appointment attendance by age\n",
    "age = df.groupby('AgeGroup')['No_Show'].value_counts(normalize=True).unstack().plot(kind='bar', figsize=(20,5))\n",
    "age.set_title(\"Percentage of Appointments Show/No Show by Age\")\n",
    "plt.show()\n"
   ]
  },
  {
   "cell_type": "markdown",
   "metadata": {},
   "source": [
    "The patients that seems most likely to not show-up for their appointments are between 10 and 35 years old."
   ]
  },
  {
   "cell_type": "markdown",
   "metadata": {},
   "source": [
    "## SMS Received\n"
   ]
  },
  {
   "cell_type": "code",
   "execution_count": null,
   "metadata": {},
   "outputs": [],
   "source": [
    "# barchart showing number of show/ no-show by SMS Received\n",
    "day_of_week = df.groupby('SMS_received')['No_Show'].value_counts(normalize=False).unstack().plot(kind='bar', figsize=(10,4))\n",
    "day_of_week.set_title(\"Appointment Show/No Show by SMS Received\")\n",
    "plt.show()\n",
    "\n"
   ]
  },
  {
   "cell_type": "code",
   "execution_count": null,
   "metadata": {},
   "outputs": [],
   "source": [
    "# barchart showing the percentage of show/ no-show by SMS Received\n",
    "day_of_week = df.groupby('SMS_received')['No_Show'].value_counts(normalize=True).unstack().plot(kind='bar', figsize=(10,4))\n",
    "day_of_week.set_title(\"Percentage of Appointment Show/No Show by SMS Received\")\n",
    "plt.show()\n"
   ]
  },
  {
   "cell_type": "markdown",
   "metadata": {},
   "source": [
    "The graphs above do not show expected results: 38% appointments for patients that received the sms were missed while 20% of the appointments for patients that did not received a sms. This feature seem to be important in dertermining appointments no show."
   ]
  },
  {
   "cell_type": "markdown",
   "metadata": {},
   "source": [
    "## Conclusions\n",
    "*I have looked into the dataset and managed a few problems like unifying names, removing wrong data, adding new features based on existing data. I have also investigated most of independent variables in the dataset and made a few observations comparing them to each other as well as to the dependent one (no_show). As this was only an exploratory analysis, many potential correlations may remain uncovered. The data should be investigated further with more advanced statistical analysis to potentially reveal new insights and correlations.*\n",
    "\n",
    "**The most important findings are:**\n",
    "\n",
    "**Neighbourhoon* has a great effect on attendence or not. JARDIM CAMBURI has the greatest number of patients and also has the greatest showing rate\n",
    "\n",
    "Number of showing patients from specific neighbourhood affected by receiving *SMS and Ages*\n",
    "\n",
    "**Age* has a clear influence on the showing rate Ages from 08 are the most showing parents taking care of their kids) then from 45 55 and the least attending are whom above 65 years old\n",
    "\n",
    "*Number of showing patients without receiving sms is greater than showing patients with receiving sms, which means that we need to revisit our sms compaghin\n",
    "\n",
    "Limitations\n",
    "\n",
    "**No clear correlation between showing and gender, chronic diseases, enrollement in the welfare program**\n",
    "\n"
   ]
  }
 ],
 "metadata": {
  "kernelspec": {
   "display_name": "Python 3",
   "language": "python",
   "name": "python3"
  },
  "language_info": {
   "codemirror_mode": {
    "name": "ipython",
    "version": 3
   },
   "file_extension": ".py",
   "mimetype": "text/x-python",
   "name": "python",
   "nbconvert_exporter": "python",
   "pygments_lexer": "ipython3",
   "version": "3.6.3"
  }
 },
 "nbformat": 4,
 "nbformat_minor": 2
}
